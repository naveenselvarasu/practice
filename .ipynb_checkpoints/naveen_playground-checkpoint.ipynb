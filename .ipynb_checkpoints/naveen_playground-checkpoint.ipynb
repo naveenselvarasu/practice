{
 "cells": [
  {
   "cell_type": "markdown",
   "id": "34e027b4",
   "metadata": {},
   "source": [
    "# srigauvyum"
   ]
  },
  {
   "cell_type": "code",
   "execution_count": 1,
   "id": "ece738bd",
   "metadata": {
    "scrolled": true
   },
   "outputs": [
    {
     "data": {
      "text/plain": [
       "<QuerySet [<User: 15258008>, <User: nav12>, <User: nave>, <User: hellos>, <User: hello>, <User: naveen>, <User: name>, <User: nana>]>"
      ]
     },
     "execution_count": 1,
     "metadata": {},
     "output_type": "execute_result"
    }
   ],
   "source": [
    "User.objects.all()"
   ]
  },
  {
   "cell_type": "code",
   "execution_count": 8,
   "id": "54c134cc",
   "metadata": {},
   "outputs": [
    {
     "data": {
      "text/plain": [
       "<QuerySet [<Product: drumstick>]>"
      ]
     },
     "execution_count": 8,
     "metadata": {},
     "output_type": "execute_result"
    }
   ],
   "source": [
    "Product.objects.filter(star_value=5)"
   ]
  },
  {
   "cell_type": "code",
   "execution_count": 6,
   "id": "16faafa1",
   "metadata": {},
   "outputs": [
    {
     "data": {
      "text/plain": [
       "[{'id': 1, 'type': 'veg'}, {'id': 2, 'type': 'meat'}]"
      ]
     },
     "execution_count": 6,
     "metadata": {},
     "output_type": "execute_result"
    }
   ],
   "source": [
    "list(ProductGroup.objects.filter().values())"
   ]
  },
  {
   "cell_type": "code",
   "execution_count": 4,
   "id": "73ea930f",
   "metadata": {},
   "outputs": [
    {
     "data": {
      "text/plain": [
       "<QuerySet [{'id': 1, 'type': 'veg'}, {'id': 2, 'type': 'meat'}]>"
      ]
     },
     "execution_count": 4,
     "metadata": {},
     "output_type": "execute_result"
    }
   ],
   "source": [
    "ProductGroup.objects.filter().values()"
   ]
  },
  {
   "cell_type": "code",
   "execution_count": 8,
   "id": "3aae11f7",
   "metadata": {},
   "outputs": [
    {
     "data": {
      "text/plain": [
       "<QuerySet [<ProductGroup: meat>]>"
      ]
     },
     "execution_count": 8,
     "metadata": {},
     "output_type": "execute_result"
    }
   ],
   "source": [
    "product_group_obj=ProductGroup(type=\"meat\")\n",
    "product_group_obj.save()\n",
    "product_group_obj.id\n",
    "ProductGroup.objects.filter(id=product_group_obj.id)"
   ]
  },
  {
   "cell_type": "markdown",
   "id": "3163c1f0",
   "metadata": {},
   "source": [
    "\n",
    "# Save_comment "
   ]
  },
  {
   "cell_type": "code",
   "execution_count": 35,
   "id": "2b5c66d0",
   "metadata": {},
   "outputs": [
    {
     "name": "stdout",
     "output_type": "stream",
     "text": [
      "4\n"
     ]
    }
   ],
   "source": [
    "group_name = \"fruit\"\n",
    "\n",
    "variety = 'apple'\n",
    "quantity = 40\n",
    "price = 100\n",
    "paking_date = \"2022-07-28\"\n",
    "expiry_date = \"2022-07-28\"\n",
    "\n",
    "if not ProductGroup.objects.filter(type__exact=group_name).exists():\n",
    "    product_group_obj =  ProductGroup(type=group_name)\n",
    "    product_group_obj.save()\n",
    "    print('product_group_saved')\n",
    "    print(product_group_obj.id)\n",
    "    \n",
    "    if not Product.objects.filter(variety=variety).exists():\n",
    "        product_obj = Product(productgroup_id=product_group_obj.id,\n",
    "                                         variety = variety,\n",
    "                                         quantity = quantity,\n",
    "                                         price = price,\n",
    "                                         paking_date = paking_date,\n",
    "                                         expiry_date = expiry_date)\n",
    "    \n",
    "        product_obj.save()\n",
    "#         print('product_saved')\n",
    "\n",
    "else:\n",
    "    group_obj_id = ProductGroup.objects.get(type=group_name).id\n",
    "    print(group_obj_id)\n",
    "    if not Product.objects.filter(variety=variety).exists():\n",
    "        product_obj = Product(productgroup_id=group_obj_id,\n",
    "                                         variety = variety,\n",
    "                                         quantity = quantity,\n",
    "                                         price = price,\n",
    "                                         paking_date = paking_date,\n",
    "                                         expiry_date = expiry_date,\n",
    "                             )\n",
    "    \n",
    "        product_obj.save()\n",
    "        print('product_saved')\n",
    "    \n",
    "\n",
    "    \n",
    "\n",
    "\n",
    "# next\n",
    "\n"
   ]
  },
  {
   "cell_type": "code",
   "execution_count": 52,
   "id": "023adeea",
   "metadata": {},
   "outputs": [
    {
     "name": "stdout",
     "output_type": "stream",
     "text": [
      "3\n"
     ]
    }
   ],
   "source": [
    "# product_obj = list(ProductGroup.objects.filter(type=\"veg\").values_list(\"id\",flat=True))\n",
    "# product_obj\n",
    "product_obj = ProductGroup.objects.get(type=\"fast_food\").id\n",
    "print(product_obj)\n"
   ]
  },
  {
   "cell_type": "code",
   "execution_count": 48,
   "id": "fb9647c5",
   "metadata": {},
   "outputs": [
    {
     "name": "stdout",
     "output_type": "stream",
     "text": [
      "<QuerySet [{'id': 1, 'type': 'veg'}]>\n",
      "[1] 1\n"
     ]
    },
    {
     "data": {
      "text/plain": [
       "<QuerySet [<Product: mushroom>, <Product: tommato>, <Product: chicken>, <Product: mutton>, <Product: coconut>, <Product: coconut oil>, <Product: beatroot>]>"
      ]
     },
     "execution_count": 48,
     "metadata": {},
     "output_type": "execute_result"
    }
   ],
   "source": [
    "gro = \"veg\"\n",
    "product_obj = ProductGroup.objects.filter(type=gro).values()\n",
    "\n",
    "print(product_obj)\n",
    "myvalues = [i[\"id\"] for i in product_obj]\n",
    "my = product_obj[0][\"id\"]\n",
    "print(myvalues,my)\n",
    "pro = Product.objects.filter()\n",
    "(pro)"
   ]
  },
  {
   "cell_type": "code",
   "execution_count": 330,
   "id": "8e89320c",
   "metadata": {
    "collapsed": true
   },
   "outputs": [
    {
     "data": {
      "text/plain": [
       "{'veg': [{'id': 1,\n",
       "   'productgroup_id': 1,\n",
       "   'variety': 'mushroom',\n",
       "   'quantity': 40,\n",
       "   'price': 10,\n",
       "   'paking_date': datetime.date(2022, 7, 10),\n",
       "   'expiry_date': datetime.date(2022, 7, 30),\n",
       "   'created_date': datetime.date(2022, 7, 27),\n",
       "   'modified_date': datetime.date(2022, 7, 27)},\n",
       "  {'id': 2,\n",
       "   'productgroup_id': 1,\n",
       "   'variety': 'tommato',\n",
       "   'quantity': 40,\n",
       "   'price': 10,\n",
       "   'paking_date': datetime.date(2022, 7, 10),\n",
       "   'expiry_date': datetime.date(2022, 7, 30),\n",
       "   'created_date': datetime.date(2022, 7, 27),\n",
       "   'modified_date': datetime.date(2022, 7, 27)},\n",
       "  {'id': 5,\n",
       "   'productgroup_id': 1,\n",
       "   'variety': 'coconut',\n",
       "   'quantity': 40,\n",
       "   'price': 10,\n",
       "   'paking_date': datetime.date(2022, 7, 10),\n",
       "   'expiry_date': datetime.date(2022, 7, 30),\n",
       "   'created_date': datetime.date(2022, 7, 27),\n",
       "   'modified_date': datetime.date(2022, 7, 27)},\n",
       "  {'id': 6,\n",
       "   'productgroup_id': 1,\n",
       "   'variety': 'coconut oil',\n",
       "   'quantity': 40,\n",
       "   'price': 10,\n",
       "   'paking_date': datetime.date(2022, 7, 10),\n",
       "   'expiry_date': datetime.date(2022, 7, 30),\n",
       "   'created_date': datetime.date(2022, 7, 27),\n",
       "   'modified_date': datetime.date(2022, 7, 27)}],\n",
       " 'meat': [{'id': 3,\n",
       "   'productgroup_id': 2,\n",
       "   'variety': 'chicken',\n",
       "   'quantity': 40,\n",
       "   'price': 10,\n",
       "   'paking_date': datetime.date(2022, 7, 10),\n",
       "   'expiry_date': datetime.date(2022, 7, 30),\n",
       "   'created_date': datetime.date(2022, 7, 27),\n",
       "   'modified_date': datetime.date(2022, 7, 27)},\n",
       "  {'id': 4,\n",
       "   'productgroup_id': 2,\n",
       "   'variety': 'mutton',\n",
       "   'quantity': 40,\n",
       "   'price': 10,\n",
       "   'paking_date': datetime.date(2022, 7, 10),\n",
       "   'expiry_date': datetime.date(2022, 7, 30),\n",
       "   'created_date': datetime.date(2022, 7, 27),\n",
       "   'modified_date': datetime.date(2022, 7, 27)}]}"
      ]
     },
     "execution_count": 330,
     "metadata": {},
     "output_type": "execute_result"
    }
   ],
   "source": [
    "data = Product.objects.filter().values()\n",
    "id = list(ProductGroup.objects.filter(type=\"veg\").values_list('id',flat=True) )\n",
    "\n",
    "lis = []\n",
    "lis_obj=[]\n",
    "for values in data:\n",
    "    if (values[\"productgroup_id\"] == id[0]):\n",
    "        lis.append(values)\n",
    "    else:\n",
    "        lis_obj.append(values)\n",
    "    \n",
    "obj = {\"veg\":lis ,\"meat\":lis_obj}\n",
    "obj\n",
    "\n",
    "\n",
    "\n",
    "    \n",
    "\n",
    "        \n",
    "    \n"
   ]
  },
  {
   "cell_type": "code",
   "execution_count": 331,
   "id": "c5cc026d",
   "metadata": {},
   "outputs": [
    {
     "data": {
      "text/plain": [
       "<QuerySet [<Product: mushroom>, <Product: tommato>, <Product: chicken>, <Product: mutton>, <Product: coconut>, <Product: coconut oil>]>"
      ]
     },
     "execution_count": 331,
     "metadata": {},
     "output_type": "execute_result"
    }
   ],
   "source": [
    "Product.objects.filter()"
   ]
  },
  {
   "cell_type": "code",
   "execution_count": 55,
   "id": "8122fe76",
   "metadata": {},
   "outputs": [
    {
     "data": {
      "text/plain": [
       "'<QuerySet [1]>'"
      ]
     },
     "execution_count": 55,
     "metadata": {},
     "output_type": "execute_result"
    }
   ],
   "source": [
    "productgroupid = str(ProductGroup.objects.filter(type=\"veg\").values_list('id', flat=True) )\n",
    "productgroupid"
   ]
  },
  {
   "cell_type": "code",
   "execution_count": 6,
   "id": "32f3edef",
   "metadata": {},
   "outputs": [
    {
     "data": {
      "text/plain": [
       "[]"
      ]
     },
     "execution_count": 6,
     "metadata": {},
     "output_type": "execute_result"
    }
   ],
   "source": [
    "product_obj = Product.objects.filter()\n",
    "\n",
    "master_dict = {}\n",
    "temp_list = []\n",
    "master_list = []\n",
    "for data in product_obj:\n",
    "    if not data.productgroup.type in master_dict:\n",
    "        master_dict[data.productgroup.type] = []\n",
    "    temp_dict={\n",
    "            'name': data.variety,\n",
    "            'price': data.price,\n",
    "            'quantity': data.quantity}\n",
    "    \n",
    "    master_dict[data.productgroup.type].append(temp_dict)\n",
    "master_list.append(master_dict)\n",
    "master_list\n"
   ]
  },
  {
   "cell_type": "code",
   "execution_count": 3,
   "id": "18a4499f",
   "metadata": {},
   "outputs": [
    {
     "data": {
      "text/plain": [
       "{'veg': [{'name': 'tommato', 'price': 10, 'quantity': 40},\n",
       "  {'name': 'coconut', 'price': 10, 'quantity': 40},\n",
       "  {'name': 'coconut oil', 'price': 10, 'quantity': 40},\n",
       "  {'name': 'beatroot', 'price': 10, 'quantity': 40},\n",
       "  {'name': 'drum_stick', 'price': 10, 'quantity': 40},\n",
       "  {'name': 'nuts', 'price': 100, 'quantity': 40},\n",
       "  {'name': 'mushroom', 'price': 150, 'quantity': 40}],\n",
       " 'meat': [{'name': 'chicken', 'price': 10, 'quantity': 40},\n",
       "  {'name': 'mutton', 'price': 10, 'quantity': 40},\n",
       "  {'name': 'bran', 'price': 1000, 'quantity': 40}],\n",
       " 'fast_food': [{'name': 'noodles', 'price': 100, 'quantity': 40},\n",
       "  {'name': 'friedrice', 'price': 100, 'quantity': 40}],\n",
       " 'fruit': [{'name': 'grapes', 'price': 100, 'quantity': 40},\n",
       "  {'name': 'apple', 'price': 100, 'quantity': 40}]}"
      ]
     },
     "execution_count": 3,
     "metadata": {},
     "output_type": "execute_result"
    }
   ],
   "source": [
    "master_dict"
   ]
  },
  {
   "cell_type": "markdown",
   "id": "a1943d7a",
   "metadata": {},
   "source": [
    "master_dict"
   ]
  },
  {
   "cell_type": "code",
   "execution_count": 5,
   "id": "ac4d2a00",
   "metadata": {},
   "outputs": [
    {
     "data": {
      "text/plain": [
       "{'veg': [{}, {}], 'meat': [{}, {}]}"
      ]
     },
     "execution_count": 5,
     "metadata": {},
     "output_type": "execute_result"
    }
   ],
   "source": [
    "{'veg': [{}, {}],\n",
    "'meat': [{}, {}]}"
   ]
  },
  {
   "cell_type": "code",
   "execution_count": 337,
   "id": "a57dc79d",
   "metadata": {},
   "outputs": [],
   "source": [
    "produc_obj = Product.objects.filter()\n",
    "\n",
    "main_dict = {}\n",
    "for values in produc_obj:\n",
    "    if not values.productgroup.type in main_dict:\n",
    "        main_dict[values.productgroup.type] = []\n",
    "        "
   ]
  },
  {
   "cell_type": "code",
   "execution_count": 340,
   "id": "c7cf86e0",
   "metadata": {},
   "outputs": [
    {
     "name": "stdout",
     "output_type": "stream",
     "text": [
      "7\n",
      "10\n",
      "10\n"
     ]
    }
   ],
   "source": [
    "@second\n",
    "def first(a,b):\n",
    "    c =a+b\n",
    "    print(c)\n",
    "\n",
    "def second(func):\n",
    "    def multiple(x,y):\n",
    "        z = x*y\n",
    "        func(x,y)\n",
    "        print(z)\n",
    "    return multiple\n",
    "\n",
    "first = second(first)\n",
    "\n",
    "first(5,2)\n"
   ]
  },
  {
   "cell_type": "code",
   "execution_count": 85,
   "id": "149c9049",
   "metadata": {},
   "outputs": [
    {
     "data": {
      "text/plain": [
       "1"
      ]
     },
     "execution_count": 85,
     "metadata": {},
     "output_type": "execute_result"
    }
   ],
   "source": [
    "product_obj = ProductGroup.objects.filter(type=\"veg\").values_list('id',flat=True)\n",
    "#     if not Product.objects.filter(variety=variety).exists():\n",
    "#         id = list(ProductGroup.objects.filter(type=\"veg\").values_list('id',flat=True) )\n",
    "for value in product_obj:\n",
    "    pk = value\n",
    "    \n",
    "    f = pk\n",
    "\n",
    "product_obj\n",
    "pk"
   ]
  },
  {
   "cell_type": "code",
   "execution_count": 10,
   "id": "5dd51658",
   "metadata": {},
   "outputs": [],
   "source": [
    "variety = \"mushroom\"\n",
    "\n",
    "price = 150\n",
    "if Product.objects.filter(variety=variety):\n",
    "    product_obj = Product.objects.filter(variety=variety).update(price=price)"
   ]
  },
  {
   "cell_type": "code",
   "execution_count": 40,
   "id": "5194a6b5",
   "metadata": {},
   "outputs": [
    {
     "data": {
      "text/plain": [
       "{'veg': [{'variety': 'tommato', 'price': 10},\n",
       "  {'variety': 'coconut', 'price': 10},\n",
       "  {'variety': 'coconut oil', 'price': 10},\n",
       "  {'variety': 'beatroot', 'price': 10},\n",
       "  {'variety': 'drum_stick', 'price': 10},\n",
       "  {'variety': 'nuts', 'price': 100},\n",
       "  {'variety': 'mushroom', 'price': 150}],\n",
       " 'meat': [{'variety': 'chicken', 'price': 10},\n",
       "  {'variety': 'mutton', 'price': 10},\n",
       "  {'variety': 'bran', 'price': 1000}],\n",
       " 'fast_food': [{'variety': 'noodles', 'price': 100},\n",
       "  {'variety': 'friedrice', 'price': 100}],\n",
       " 'fruit': [{'variety': 'grapes', 'price': 100},\n",
       "  {'variety': 'apple', 'price': 100}]}"
      ]
     },
     "execution_count": 40,
     "metadata": {},
     "output_type": "execute_result"
    }
   ],
   "source": [
    "\n",
    "main_dict = {}\n",
    "product_obj = Product.objects.filter()\n",
    "for values in product_obj:\n",
    "    if not values.productgroup.type in main_dict:\n",
    "        main_dict[values.productgroup.type] = []\n",
    "    collect_values = {\"variety\": values.variety, \n",
    "                     \"price\": values.price,\n",
    "                     }\n",
    "    \n",
    "    main_dict[values.productgroup.type].append(collect_values)\n",
    "main_dict\n",
    "        "
   ]
  },
  {
   "cell_type": "code",
   "execution_count": 62,
   "id": "c3142665",
   "metadata": {},
   "outputs": [
    {
     "data": {
      "text/plain": [
       "<QuerySet [2, 3, 4, 5, 6, 7, 8, 9, 10, 11, 12, 13, 14, 1]>"
      ]
     },
     "execution_count": 62,
     "metadata": {},
     "output_type": "execute_result"
    }
   ],
   "source": [
    "product_obj = Product.objects.filter().values_list('id',flat=True)\n",
    "product_obj"
   ]
  },
  {
   "cell_type": "code",
   "execution_count": null,
   "id": "a3873edf",
   "metadata": {},
   "outputs": [],
   "source": []
  },
  {
   "cell_type": "code",
   "execution_count": null,
   "id": "c5fbba3f",
   "metadata": {},
   "outputs": [],
   "source": []
  },
  {
   "cell_type": "code",
   "execution_count": null,
   "id": "b673ec59",
   "metadata": {},
   "outputs": [],
   "source": []
  },
  {
   "cell_type": "code",
   "execution_count": null,
   "id": "ba5bc65c",
   "metadata": {},
   "outputs": [],
   "source": []
  },
  {
   "cell_type": "code",
   "execution_count": null,
   "id": "fff3342b",
   "metadata": {},
   "outputs": [],
   "source": []
  },
  {
   "cell_type": "code",
   "execution_count": null,
   "id": "b2a751f9",
   "metadata": {},
   "outputs": [],
   "source": []
  },
  {
   "cell_type": "code",
   "execution_count": null,
   "id": "15b092c2",
   "metadata": {},
   "outputs": [],
   "source": []
  },
  {
   "cell_type": "code",
   "execution_count": null,
   "id": "0f233a45",
   "metadata": {},
   "outputs": [],
   "source": []
  },
  {
   "cell_type": "code",
   "execution_count": null,
   "id": "be991831",
   "metadata": {},
   "outputs": [],
   "source": []
  },
  {
   "cell_type": "code",
   "execution_count": null,
   "id": "b95b6fc4",
   "metadata": {},
   "outputs": [],
   "source": []
  },
  {
   "cell_type": "code",
   "execution_count": null,
   "id": "fec983bd",
   "metadata": {},
   "outputs": [],
   "source": []
  },
  {
   "cell_type": "code",
   "execution_count": null,
   "id": "0b2588e9",
   "metadata": {},
   "outputs": [],
   "source": []
  }
 ],
 "metadata": {
  "kernelspec": {
   "display_name": "Django Shell-Plus",
   "language": "python",
   "name": "django_extensions"
  },
  "language_info": {
   "codemirror_mode": {
    "name": "ipython",
    "version": 3
   },
   "file_extension": ".py",
   "mimetype": "text/x-python",
   "name": "python",
   "nbconvert_exporter": "python",
   "pygments_lexer": "ipython3",
   "version": "3.8.10"
  }
 },
 "nbformat": 4,
 "nbformat_minor": 5
}
